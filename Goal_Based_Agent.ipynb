{
  "nbformat": 4,
  "nbformat_minor": 0,
  "metadata": {
    "colab": {
      "provenance": []
    },
    "kernelspec": {
      "name": "python3",
      "display_name": "Python 3"
    },
    "language_info": {
      "name": "python"
    }
  },
  "cells": [
    {
      "cell_type": "code",
      "execution_count": 2,
      "metadata": {
        "colab": {
          "base_uri": "https://localhost:8080/"
        },
        "id": "jbRqaSQI9Vcg",
        "outputId": "5650deaf-80ee-45f2-84aa-b4104a9f1d43"
      },
      "outputs": [
        {
          "output_type": "stream",
          "name": "stdout",
          "text": [
            "The shortest distance between A and D is 6\n"
          ]
        }
      ],
      "source": [
        "\n",
        "import heapq\n",
        "\n",
        "def shortest_path(graph, start, end):\n",
        "    # Initialize distances to infinity for all vertices except start\n",
        "    distances = {vertex: float('infinity') for vertex in graph}\n",
        "    distances[start] = 0\n",
        "\n",
        "    # Priority queue to store vertices with their distances\n",
        "    priority_queue = [(0, start)]\n",
        "\n",
        "    while priority_queue:\n",
        "        current_distance, current_vertex = heapq.heappop(priority_queue)\n",
        "\n",
        "        # If current vertex is the destination, return the distance\n",
        "        if current_vertex == end:\n",
        "            return current_distance\n",
        "\n",
        "        # If current distance is greater than distance in distances, skip\n",
        "        if current_distance > distances[current_vertex]:\n",
        "            continue\n",
        "\n",
        "        # Iterate through neighbors of current vertex\n",
        "        for neighbor, weight in graph[current_vertex].items():\n",
        "            distance = current_distance + weight\n",
        "\n",
        "            # If new distance is shorter than recorded distance, update\n",
        "            if distance < distances[neighbor]:\n",
        "                distances[neighbor] = distance\n",
        "                heapq.heappush(priority_queue, (distance, neighbor))\n",
        "\n",
        "    # If no path found, return infinity\n",
        "    return float('infinity')\n",
        "\n",
        "# Example graph representation (adjacency list)\n",
        "graph = {\n",
        "    'A': {'B': 3, 'C': 4},\n",
        "    'B': {'C': 1, 'D': 7},\n",
        "    'C': {'D': 2},\n",
        "    'D': {'B': 2}\n",
        "}\n",
        "\n",
        "# Example usage\n",
        "start_vertex = 'A'\n",
        "end_vertex = 'D'\n",
        "print(f\"The shortest distance between {start_vertex} and {end_vertex} is {shortest_path(graph, start_vertex, end_vertex)}\")\n",
        "\n",
        "\n"
      ]
    },
    {
      "cell_type": "code",
      "source": [
        "def Shortest_Path():\n",
        "  print(\"STart\")\n",
        "  Edges=input(\"Input Number of edges\")\n",
        "  Vertices=input(\"Input Number of vertices\")\n",
        "  Edges_List=[]\n",
        "  Vertices_List=[]\n",
        "  for number in Vertices:\n",
        "    Vertices_List=input(\"Input Vertices Like A,B,--\")\n",
        "  for number in Edges:\n",
        "    Vertices_List=input(\"Input Vertices Like A,B,--\")\n",
        "    for number in Edges:\n",
        "         Edges_List=input(\"Input Cost from this vertex to\"+ Vertices_List +\" :\")\n",
        "\n",
        "\n",
        "\n",
        "\n",
        "\n",
        "Shortest_Path()\n"
      ],
      "metadata": {
        "colab": {
          "base_uri": "https://localhost:8080/"
        },
        "id": "8Tq3FoHe9-ox",
        "outputId": "5b08adee-b732-4903-984f-eaef52aa3427"
      },
      "execution_count": 9,
      "outputs": [
        {
          "name": "stdout",
          "output_type": "stream",
          "text": [
            "STart\n",
            "Input Number of edges2\n",
            "Input Number of vertices2\n",
            "Input Vertices Like A,B,--A\n",
            "Input Vertices Like A,B,--B\n",
            "Input Cost from this vertex toB :2\n"
          ]
        }
      ]
    },
    {
      "cell_type": "code",
      "source": [],
      "metadata": {
        "id": "Nud9zbXvC8iM"
      },
      "execution_count": null,
      "outputs": []
    }
  ]
}